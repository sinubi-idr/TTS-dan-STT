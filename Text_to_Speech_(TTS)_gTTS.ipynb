{
  "nbformat": 4,
  "nbformat_minor": 0,
  "metadata": {
    "colab": {
      "provenance": [],
      "toc_visible": true,
      "authorship_tag": "ABX9TyP+np86tC+RQUtzDflqL3HR"
    },
    "kernelspec": {
      "name": "python3",
      "display_name": "Python 3"
    },
    "language_info": {
      "name": "python"
    }
  },
  "cells": [
    {
      "cell_type": "markdown",
      "source": [
        "# **TTS dan STT**\n",
        "\n",
        "Text-to-Speech (TTS) menggunakan package \"gTTS\"\n",
        "\n",
        "[![Open In Colab](https://colab.research.google.com/assets/colab-badge.svg)](https://colab.research.google.com/drive/1QbcN1dpk674rmrBfiBgbg0YfnFBFaaiy?usp=sharingg)\n",
        "\n",
        "*Oleh : Sinubi*"
      ],
      "metadata": {
        "id": "I2gop4f0qvG4"
      }
    },
    {
      "cell_type": "markdown",
      "source": [
        "## Persiapan"
      ],
      "metadata": {
        "id": "WV5gRrsWtU5Z"
      }
    },
    {
      "cell_type": "code",
      "source": [
        "# Menginstall Package \"gTTS\"\n",
        "!pip install gTTS==2.4.0 -q"
      ],
      "metadata": {
        "id": "Q-PeQDpftfHx"
      },
      "execution_count": null,
      "outputs": []
    },
    {
      "cell_type": "code",
      "source": [
        "# Import Packages/Libraries yang diperlukan\n",
        "from gtts import gTTS\n",
        "from IPython.display import Audio"
      ],
      "metadata": {
        "id": "9mN34FkUtVPA"
      },
      "execution_count": null,
      "outputs": []
    },
    {
      "cell_type": "code",
      "source": [
        "# Menampilkan Versi Package \"gTTS\" yang digunakan\n",
        "!pip show gTTS"
      ],
      "metadata": {
        "colab": {
          "base_uri": "https://localhost:8080/"
        },
        "id": "K_kMtmhqtoxw",
        "outputId": "81749d4a-858d-4e9b-b2bb-3c03d80d464d"
      },
      "execution_count": null,
      "outputs": [
        {
          "output_type": "stream",
          "name": "stdout",
          "text": [
            "Name: gTTS\n",
            "Version: 2.4.0\n",
            "Summary: gTTS (Google Text-to-Speech), a Python library and CLI tool to interface with Google Translate text-to-speech API\n",
            "Home-page: \n",
            "Author: \n",
            "Author-email: Pierre Nicolas Durette <pndurette@gmail.com>\n",
            "License: MIT\n",
            "Location: /usr/local/lib/python3.10/dist-packages\n",
            "Requires: click, requests\n",
            "Required-by: \n"
          ]
        }
      ]
    },
    {
      "cell_type": "markdown",
      "source": [
        "## Text-to-Speech (TTS)"
      ],
      "metadata": {
        "id": "AiNIKXDktatF"
      }
    },
    {
      "cell_type": "markdown",
      "source": [
        "### Membuat *Speech* Bahasa Inggris"
      ],
      "metadata": {
        "id": "GQWvIDE8uuNZ"
      }
    },
    {
      "cell_type": "code",
      "source": [
        "# Membuat Speech dari Text\n",
        "tulisan = \"Hello ! Good Morning !\"\n",
        "bahasa  = \"en\"\n",
        "\n",
        "tts = gTTS(text = tulisan, lang = bahasa)\n",
        "tts.save('output.wav')"
      ],
      "metadata": {
        "id": "tPvlTKM2uKLi"
      },
      "execution_count": null,
      "outputs": []
    },
    {
      "cell_type": "code",
      "source": [
        "# Memutar Speech yang Dihasilkan\n",
        "sound_file = 'output.wav'\n",
        "Audio(sound_file, autoplay = True)"
      ],
      "metadata": {
        "colab": {
          "base_uri": "https://localhost:8080/",
          "height": 75
        },
        "id": "aWIUeEyYudYm",
        "outputId": "9b1746c8-400f-4357-ed4c-63bfb1484125"
      },
      "execution_count": null,
      "outputs": [
        {
          "output_type": "execute_result",
          "data": {
            "text/plain": [
              "<IPython.lib.display.Audio object>"
            ],
            "text/html": [
              "\n",
              "                <audio  controls=\"controls\" autoplay=\"autoplay\">\n",
              "                    <source src=\"data:audio/x-wav;base64,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\" type=\"audio/x-wav\" />\n",
              "                    Your browser does not support the audio element.\n",
              "                </audio>\n",
              "              "
            ]
          },
          "metadata": {},
          "execution_count": 11
        }
      ]
    },
    {
      "cell_type": "markdown",
      "source": [
        "### Membuat *Speech* Bahasa Indonesia"
      ],
      "metadata": {
        "id": "sGmS5b2Yuz1A"
      }
    },
    {
      "cell_type": "code",
      "source": [
        "# Membuat Speech dari Text\n",
        "tulisan = \"Halo ! Selamat Pagi !\"\n",
        "bahasa  = \"id\"\n",
        "\n",
        "tts = gTTS(text = tulisan, lang = bahasa)\n",
        "tts.save('output.wav')"
      ],
      "metadata": {
        "id": "LXMCljGxu11Q"
      },
      "execution_count": null,
      "outputs": []
    },
    {
      "cell_type": "code",
      "source": [
        "# Memutar Speech yang Dihasilkan\n",
        "sound_file = 'output.wav'\n",
        "Audio(sound_file, autoplay = True)"
      ],
      "metadata": {
        "colab": {
          "base_uri": "https://localhost:8080/",
          "height": 75
        },
        "id": "4LOKrUQpvbjt",
        "outputId": "85c0f3cd-9614-46aa-b65a-390163f613d9"
      },
      "execution_count": null,
      "outputs": [
        {
          "output_type": "execute_result",
          "data": {
            "text/plain": [
              "<IPython.lib.display.Audio object>"
            ],
            "text/html": [
              "\n",
              "                <audio  controls=\"controls\" autoplay=\"autoplay\">\n",
              "                    <source src=\"data:audio/x-wav;base64,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\" type=\"audio/x-wav\" />\n",
              "                    Your browser does not support the audio element.\n",
              "                </audio>\n",
              "              "
            ]
          },
          "metadata": {},
          "execution_count": 13
        }
      ]
    },
    {
      "cell_type": "markdown",
      "source": [
        "# Referensi Eksternal\n",
        "\n",
        "*   https://pypi.org/project/gTTS/\n",
        "*   https://gtts.readthedocs.io/en/latest/\n",
        "\n"
      ],
      "metadata": {
        "id": "7Fch0hdtxekd"
      }
    }
  ]
}